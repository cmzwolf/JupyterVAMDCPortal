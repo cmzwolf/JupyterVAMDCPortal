{
  "nbformat": 4,
  "nbformat_minor": 0,
  "metadata": {
    "colab": {
      "name": "portalTest.ipynb",
      "provenance": [],
      "collapsed_sections": [],
      "authorship_tag": "ABX9TyPryujMNTuyVoRG+FS/Vrgx",
      "include_colab_link": true
    },
    "kernelspec": {
      "name": "python3",
      "display_name": "Python 3"
    },
    "language_info": {
      "name": "python"
    }
  },
  "cells": [
    {
      "cell_type": "markdown",
      "metadata": {
        "id": "view-in-github",
        "colab_type": "text"
      },
      "source": [
        "<a href=\"https://colab.research.google.com/github/cmzwolf/JupyterVAMDCPortal/blob/main/portalTest.ipynb\" target=\"_parent\"><img src=\"https://colab.research.google.com/assets/colab-badge.svg\" alt=\"Open In Colab\"/></a>"
      ]
    },
    {
      "cell_type": "markdown",
      "source": [
        "# VAMDC portal in a Jupyter Notebook \n",
        "This notebook implements in google-colab functionality similar to the ones of the VAMDC portal, in particular the part for requesting databases and dowloading data. **This is a first prototype**: the code will be factored into functions and new functionalities will be added"
      ],
      "metadata": {
        "id": "fVBfPEBdZJzp"
      }
    },
    {
      "cell_type": "markdown",
      "source": [
        "Let us start by a configuration phase, where we fetch all the required compoenents"
      ],
      "metadata": {
        "id": "xwTUQnhDZW-H"
      }
    },
    {
      "cell_type": "code",
      "execution_count": 1,
      "metadata": {
        "colab": {
          "base_uri": "https://localhost:8080/"
        },
        "id": "fRvdc_WDW-Ld",
        "outputId": "7b81b34f-2aed-4853-9ce8-18b810d3cdeb"
      },
      "outputs": [
        {
          "output_type": "stream",
          "name": "stdout",
          "text": [
            "Cloning into 'vamdclib'...\n",
            "remote: Enumerating objects: 181, done.\u001b[K\n",
            "remote: Total 181 (delta 0), reused 0 (delta 0), pack-reused 181\u001b[K\n",
            "Receiving objects: 100% (181/181), 166.20 KiB | 914.00 KiB/s, done.\n",
            "Resolving deltas: 100% (85/85), done.\n",
            "/content/vamdclib\n"
          ]
        }
      ],
      "source": [
        "# fetching the VAMDC Python libraries\n",
        "!git clone https://github.com/notlaast/vamdclib.git \n",
        "%cd vamdclib"
      ]
    },
    {
      "cell_type": "code",
      "source": [
        "# installing the VAMDC libraries as a python package (-e option is for interactive linking)\n",
        "!pip install -e ."
      ],
      "metadata": {
        "colab": {
          "base_uri": "https://localhost:8080/"
        },
        "id": "mKyQiFdsDsFR",
        "outputId": "6897191e-1fd6-4b25-86e4-9b6946af8cc3"
      },
      "execution_count": 2,
      "outputs": [
        {
          "output_type": "stream",
          "name": "stdout",
          "text": [
            "Obtaining file:///content/vamdclib\n",
            "Installing collected packages: vamdclib\n",
            "  Running setup.py develop for vamdclib\n",
            "Successfully installed vamdclib-0.3\n"
          ]
        }
      ]
    },
    {
      "cell_type": "code",
      "source": [
        "# installing dependencies for interacting with the VAMDC registries\n",
        "!pip install suds-jurko"
      ],
      "metadata": {
        "colab": {
          "base_uri": "https://localhost:8080/"
        },
        "id": "F8kUj3R90lo8",
        "outputId": "54640892-6eef-4455-a374-d392e4209eb0"
      },
      "execution_count": 3,
      "outputs": [
        {
          "output_type": "stream",
          "name": "stdout",
          "text": [
            "Collecting suds-jurko\n",
            "  Downloading suds-jurko-0.6.zip (255 kB)\n",
            "\u001b[?25l\r\u001b[K     |█▎                              | 10 kB 22.0 MB/s eta 0:00:01\r\u001b[K     |██▋                             | 20 kB 26.5 MB/s eta 0:00:01\r\u001b[K     |███▉                            | 30 kB 21.1 MB/s eta 0:00:01\r\u001b[K     |█████▏                          | 40 kB 17.2 MB/s eta 0:00:01\r\u001b[K     |██████▍                         | 51 kB 7.3 MB/s eta 0:00:01\r\u001b[K     |███████▊                        | 61 kB 8.5 MB/s eta 0:00:01\r\u001b[K     |█████████                       | 71 kB 7.9 MB/s eta 0:00:01\r\u001b[K     |██████████▎                     | 81 kB 8.8 MB/s eta 0:00:01\r\u001b[K     |███████████▌                    | 92 kB 9.5 MB/s eta 0:00:01\r\u001b[K     |████████████▉                   | 102 kB 7.1 MB/s eta 0:00:01\r\u001b[K     |██████████████                  | 112 kB 7.1 MB/s eta 0:00:01\r\u001b[K     |███████████████▍                | 122 kB 7.1 MB/s eta 0:00:01\r\u001b[K     |████████████████▋               | 133 kB 7.1 MB/s eta 0:00:01\r\u001b[K     |██████████████████              | 143 kB 7.1 MB/s eta 0:00:01\r\u001b[K     |███████████████████▏            | 153 kB 7.1 MB/s eta 0:00:01\r\u001b[K     |████████████████████▌           | 163 kB 7.1 MB/s eta 0:00:01\r\u001b[K     |█████████████████████▉          | 174 kB 7.1 MB/s eta 0:00:01\r\u001b[K     |███████████████████████         | 184 kB 7.1 MB/s eta 0:00:01\r\u001b[K     |████████████████████████▍       | 194 kB 7.1 MB/s eta 0:00:01\r\u001b[K     |█████████████████████████▋      | 204 kB 7.1 MB/s eta 0:00:01\r\u001b[K     |███████████████████████████     | 215 kB 7.1 MB/s eta 0:00:01\r\u001b[K     |████████████████████████████▏   | 225 kB 7.1 MB/s eta 0:00:01\r\u001b[K     |█████████████████████████████▌  | 235 kB 7.1 MB/s eta 0:00:01\r\u001b[K     |██████████████████████████████▊ | 245 kB 7.1 MB/s eta 0:00:01\r\u001b[K     |████████████████████████████████| 255 kB 7.1 MB/s \n",
            "\u001b[?25hBuilding wheels for collected packages: suds-jurko\n",
            "  Building wheel for suds-jurko (setup.py) ... \u001b[?25l\u001b[?25hdone\n",
            "  Created wheel for suds-jurko: filename=suds_jurko-0.6-py3-none-any.whl size=454320 sha256=44e84a1a22e7d5d29c66718c7c004c9535a8cf7a96860fc462b815c2e939c3bf\n",
            "  Stored in directory: /root/.cache/pip/wheels/f4/75/2a/54353e9cd47f7dd7861856a750c5f99f05da1ccf624100b7a5\n",
            "Successfully built suds-jurko\n",
            "Installing collected packages: suds-jurko\n",
            "Successfully installed suds-jurko-0.6\n"
          ]
        }
      ]
    },
    {
      "cell_type": "markdown",
      "source": [
        "**We are ready to go!** Let us check the registries to see what nodes are registered"
      ],
      "metadata": {
        "id": "f5aFtlQ1ZxQu"
      }
    },
    {
      "cell_type": "code",
      "source": [
        "# quering the registries to get the node list\n",
        "import pandas as pd\n",
        "from vamdclib import nodes\n",
        "from vamdclib import request\n",
        "nl = nodes.Nodelist()"
      ],
      "metadata": {
        "id": "tX3WJLjrX_dN"
      },
      "execution_count": 5,
      "outputs": []
    },
    {
      "cell_type": "code",
      "source": [
        "# display the nodes into a nice table, using Pandas data frame\n",
        "%load_ext google.colab.data_table\n",
        "nodeNames = []\n",
        "nodesUrls = []\n",
        "nodesIdentifiers = []\n",
        "nodesMaintainers = []\n",
        "for node in nl:\n",
        "  nodeNames.append(node.name)\n",
        "  nodesUrls.append(node.url)\n",
        "  nodesIdentifiers.append(node.identifier)\n",
        "  nodesMaintainers.append(node.maintainer)\n",
        "\n",
        "df = pd.DataFrame(list(zip(nodeNames, nodesUrls, nodesIdentifiers, nodesMaintainers)),\n",
        "               columns =['NodeName', 'NodeURL','nodeIdentifiers', 'nodeMaintainer'])\n",
        "df"
      ],
      "metadata": {
        "id": "MV2xHuuuZr2y",
        "colab": {
          "base_uri": "https://localhost:8080/",
          "height": 657
        },
        "outputId": "8c0908b2-45c5-41d2-d3be-4c5155b6e35f"
      },
      "execution_count": 61,
      "outputs": [
        {
          "output_type": "stream",
          "name": "stdout",
          "text": [
            "The google.colab.data_table extension is already loaded. To reload it, use:\n",
            "  %reload_ext google.colab.data_table\n"
          ]
        },
        {
          "output_type": "execute_result",
          "data": {
            "application/vnd.google.colaboratory.module+javascript": "\n      import \"https://ssl.gstatic.com/colaboratory/data_table/a6224c040fa35dcf/data_table.js\";\n\n      window.createDataTable({\n        data: [[{\n            'v': 0,\n            'f': \"0\",\n        },\n\"Water internet Accessible Distributed Information System\",\n\"http://vamdc.saga.iao.ru/node/wadis/tap/\",\n\"ivo://vamdc/wadis/vamdc-tap\",\n\"faz@iao.ru\"],\n [{\n            'v': 1,\n            'f': \"1\",\n        },\n\"NIST Atomic Spectra Database\",\n\"https://physics.nist.gov:8000/nodes/asd/tap/\",\n\"ivo://vamdc/nist/vamdc-tap_12.07\",\n\"yuri.ralchenko@nist.gov\"],\n [{\n            'v': 2,\n            'f': \"2\",\n        },\n\"CDMS\",\n\"https://cdms.astro.uni-koeln.de/cdms/tap/\",\n\"ivo://vamdc/cdms/vamdc-tap_12.07\",\n\"endres@ph1.uni-koeln.de\"],\n [{\n            'v': 3,\n            'f': \"3\",\n        },\n\"MeCaSDa - Methane Calculated Spectroscopic Database\",\n\"http://vamdc.icb.cnrs.fr/mecasda-12.07/tap/\",\n\"ivo://vamdc/dijon-methane-lines\",\n\"Vincent.Boudon@u-bourgogne.fr\"],\n [{\n            'v': 4,\n            'f': \"4\",\n        },\n\"GeCaSDa: Gemane Calculated Spectroscopic Database\",\n\"http://vamdc.icb.cnrs.fr/gecasda/tap/\",\n\"ivo://vamdc/dijon-GeH4-lines\",\n\"cyril.richard@u-bourgogne.fr\"],\n [{\n            'v': 5,\n            'f': \"5\",\n        },\n\"Theoretical spectral database of  polycyclic aromatic hydrocarbons\",\n\"http://vamdc-pah.oa-cagliari.inaf.it/tap/\",\n\"ivo://vamdc/OA-Cagliari/PAH\",\n\"gmulas@oa-cagliari.inaf.it\"],\n [{\n            'v': 6,\n            'f': \"6\",\n        },\n\"IDEADB - Innsbruck Dissociative Electron Attachment Database\",\n\"https://ideadb.uibk.ac.at/tap/\",\n\"ivo://vamdc/IDEADB\",\n\"johannes.postler@uibk.ac.at\"],\n [{\n            'v': 7,\n            'f': \"7\",\n        },\n\"OACT - LASP Database\",\n\"http://dblasp.oact.inaf.it/node1207/OACT/tap/\",\n\"ivo://vamdc/OACatania/LASP\",\n\"gle@oact.inaf.it\"],\n [{\n            'v': 8,\n            'f': \"8\",\n        },\n\"Carbon Dioxide Spectroscopic Databank 296K (VAMDC-TAP)\",\n\"http://lts.iao.ru/node/cdsd-296-xsams1/tap/\",\n\"ivo://vamdc/cdsd-296\",\n\"vip@lts.iao.ru\"],\n [{\n            'v': 9,\n            'f': \"9\",\n        },\n\"VALD (atoms)\",\n\"http://vald.astro.uu.se/atoms-12.07/tap/\",\n\"ivo://vamdc/vald/uu/django\",\n\"thomas.marquart@fysast.uu.se\"],\n [{\n            'v': 10,\n            'f': \"10\",\n        },\n\"VAMDC species-DB\",\n\"http://cdms.ph1.uni-koeln.de/vamdcspeciesdb/tap/\",\n\"ivo://vamdc/VamdcSpeciesDB-TapService\",\n\"endres@ph1.uni-koeln.de\"],\n [{\n            'v': 11,\n            'f': \"11\",\n        },\n\"Chianti\",\n\"http://vamdc.ast.cam.ac.uk/chianti7/tap/\",\n\"ivo://vamdc/chianti/django\",\n\"gtr@ast.cam.ac.uk\"],\n [{\n            'v': 12,\n            'f': \"12\",\n        },\n\"GhoSST\",\n\"http://ghosst.osug.fr/vamdc/tap/\",\n\"ivo://vamdc/ghosst\",\n\"damien.albert@obs.ujf-grenoble.fr\"],\n [{\n            'v': 13,\n            'f': \"13\",\n        },\n\"ECaSDa - Ethene Calculated Spectroscopic Database\",\n\"http://vamdc.univ-reims.fr/ecasda-12.07/tap/\",\n\"ivo://vamdc/reims-ethylene\",\n\"ludovic.daumont@univ-reims.fr, maud.rotger@univ-reims.fr\"],\n [{\n            'v': 14,\n            'f': \"14\",\n        },\n\"GSMA Reims S&MPO\",\n\"http://vamdc.univ-reims.fr/smpo12/tap/\",\n\"ivo://vamdc/smpo-sample\",\n\"ylb@iao.ru, vladimir.tyuterev@univ-reims.fr\"],\n [{\n            'v': 15,\n            'f': \"15\",\n        },\n\"Hitran (VAMDC-TAP)\",\n\"http://hitran.org/tap/\",\n\"ivo://vamdc/hitran/vamdc-working\",\n\"christian.hill@ucl.ac.uk\"],\n [{\n            'v': 16,\n            'f': \"16\",\n        },\n\"Carbon Dioxide Spectroscopic Databank 1000K (VAMDC-TAP)\",\n\"http://lts.iao.ru/node/cdsd-1000-xsams1/tap/\",\n\"ivo://vamdc/cdsd-1000\",\n\"vip@lts.iao.ru\"],\n [{\n            'v': 17,\n            'f': \"17\",\n        },\n\"TIPbase : VAMDC-TAP interface\",\n\"http://tipbase.obspm.fr/12.07/vamdc/tap/\",\n\"ivo://vamdc/TIPbase/tap-xsams\",\n\"nicolas.moreau@obspm.fr - franck.delahaye@obspm.fr\"],\n [{\n            'v': 18,\n            'f': \"18\",\n        },\n\"TOPbase : VAMDC-TAP interface\",\n\"http://topbase.obspm.fr/12.07/vamdc/tap/\",\n\"ivo://vamdc/TOPbase/tap-xsams\",\n\"nicolas.moreau@obspm.fr - franck.delahaye@obspm.fr\"],\n [{\n            'v': 19,\n            'f': \"19\",\n        },\n\"Stark-b\",\n\"http://stark-b.obspm.fr/12.07/vamdc/tap/\",\n\"ivo://vamdc/stark-b/tap-xsams\",\n\"sylvie.sahal-brechot@obspm.fr\"],\n [{\n            'v': 20,\n            'f': \"20\",\n        },\n\"VALD sub-set in Moscow (obs)\",\n\"http://vald.inasan.ru/vald-node/tap/\",\n\"ivo://vamdc/vald-Moscow\",\n\"pakhomov@inasan.ru\"],\n [{\n            'v': 21,\n            'f': \"21\",\n        },\n\"SpEctroScopy of Atoms and Molecules\",\n\"http://sesam.obspm.fr/12.07/vamdc/tap/\",\n\"ivo://vamdc/sesam/tap-xsams\",\n\"evelyne.roueff@obspm.fr\"],\n [{\n            'v': 22,\n            'f': \"22\",\n        },\n\"Belgrade electron/atom(molecule) database (BEAMDB)\",\n\"http://servo.aob.rs/emol/tap/\",\n\"ivo://vamdc/emol_radam\",\n\"bratislav.marinkovic@ipb.ac.rs\"],\n [{\n            'v': 23,\n            'f': \"23\",\n        },\n\"SHeCaSDa - SF6 Calculated Spectroscopic Database\",\n\"http://vamdc.icb.cnrs.fr/shecasda-12.07/tap/\",\n\"ivo://vamdc/dijon-SF6-lines\",\n\"Vincent.Boudon@u-bourgogne.fr\"],\n [{\n            'v': 24,\n            'f': \"24\",\n        },\n\"TFMeCaSDa - CF4 Calculated Spectroscopic Database\",\n\"http://vamdc.icb.cnrs.fr/tfmecasda/tap/\",\n\"ivo://vamdc/dijon-CF4-lines\",\n\"Vincent.Boudon@u-bourgogne.fr\"],\n [{\n            'v': 25,\n            'f': \"25\",\n        },\n\"Photodissociation - MolD database\",\n\"http://servo.aob.rs/mold/tap/\",\n\"ivo://vamdc/MolD\",\n\"vlada@ipb.ac.rs\"],\n [{\n            'v': 26,\n            'f': \"26\",\n        },\n\"RuCaSDa: Ruthenium tetroxide Calculated Spectroscopic Database\",\n\"http://vamdc.icb.cnrs.fr/rucasda-12.07/tap/\",\n\"ivo://vamdc/dijon-RuO4-lines\",\n\"cyril.richard@u-bourgogne.fr\"],\n [{\n            'v': 27,\n            'f': \"27\",\n        },\n\"BASECOL2015: VAMDC-TAP interface\",\n\"http://basecoltap2015.vamdc.org/12_07/TAP/\",\n\"ivo://vamdc/basecol2015/vamdc-tap\",\n\"yaye-awa.ba@obspm.fr\"],\n [{\n            'v': 28,\n            'f': \"28\",\n        },\n\"AMDIS Ionization\",\n\"http://dbshino.nifs.ac.jp:4000/vamdc/tap/\",\n\"ivo://vamdc/amdis-ionization\",\n\"emoto.masahiko@nifs.ac.jp\"],\n [{\n            'v': 29,\n            'f': \"29\",\n        },\n\"Acetylene Spectroscopic Databank 1000K (VAMDC-TAP)\",\n\"http://lts.iao.ru/node/asd-1000/tap/\",\n\"ivo://vamdc/asd-1000\",\n\"vip@iao.ru roman2400@rambler.ru\"],\n [{\n            'v': 30,\n            'f': \"30\",\n        },\n\"Nitrous Oxide Spectroscopic Databank 1000K (VAMDC-TAP)\",\n\"http://lts.iao.ru/node/nosd-1000/tap/\",\n\"ivo://vamdc/nosd-1000\",\n\"vip@iao.ru roman2400@rambler.ru\"],\n [{\n            'v': 31,\n            'f': \"31\",\n        },\n\"Nitrogen dioxide Spectroscopic Databank 1000K (VAMDC-TAP)\",\n\"http://lts.iao.ru/node/ndsd-1000/tap/\",\n\"ivo://vamdc/ndsd-1000\",\n\"vip@iao.ru roman2400@rambler.ru\"],\n [{\n            'v': 32,\n            'f': \"32\",\n        },\n\"JPL database: VAMDC-TAP service\",\n\"https://cdms.astro.uni-koeln.de/jpl/tap/\",\n\"ivo://vamdc/jpl/vamdc-tap_12.07\",\n\"endres@ph1.uni-koeln.de\"],\n [{\n            'v': 33,\n            'f': \"33\",\n        },\n\"TFSiCaSDa : Tetra-Fluoro Silane Calculated Spectroscopic Database\",\n\"http://vamdc.icb.cnrs.fr/tfsicasda-12.07/tap/\",\n\"ivo://vamdc/dijon-SiF4-lines\",\n\"cyril.richard@u-bourgogne.fr\"],\n [{\n            'v': 34,\n            'f': \"34\",\n        },\n\"UHeCaSDa : Uranium Hexafluoride Calculated Spectroscopic Database\",\n\"http://vamdc.icb.cnrs.fr/uhecasda-12.07/tap/\",\n\"ivo://vamdc/dijon-UF6-lines\",\n\"cyril.richard@u-bourgogne.fr\"],\n [{\n            'v': 35,\n            'f': \"35\",\n        },\n\"Carbon Dioxide Spectroscopic Databank 4000K (VAMDC-TAP)\",\n\"http://lts.iao.ru/node/cdsd-4000-xsams1/tap/\",\n\"ivo://vamdc/cdsd-4000\",\n\"vip@lts.iao.ru\"]],\n        columns: [[\"number\", \"index\"], [\"string\", \"NodeName\"], [\"string\", \"NodeURL\"], [\"string\", \"nodeIdentifiers\"], [\"string\", \"nodeMaintainer\"]],\n        columnOptions: [{\"width\": \"1px\", \"className\": \"index_column\"}],\n        rowsPerPage: 25,\n        helpUrl: \"https://colab.research.google.com/notebooks/data_table.ipynb\",\n        suppressOutputScrolling: true,\n        minimumWidth: undefined,\n      });\n    ",
            "text/html": [
              "<div>\n",
              "<style scoped>\n",
              "    .dataframe tbody tr th:only-of-type {\n",
              "        vertical-align: middle;\n",
              "    }\n",
              "\n",
              "    .dataframe tbody tr th {\n",
              "        vertical-align: top;\n",
              "    }\n",
              "\n",
              "    .dataframe thead th {\n",
              "        text-align: right;\n",
              "    }\n",
              "</style>\n",
              "<table border=\"1\" class=\"dataframe\">\n",
              "  <thead>\n",
              "    <tr style=\"text-align: right;\">\n",
              "      <th></th>\n",
              "      <th>NodeName</th>\n",
              "      <th>NodeURL</th>\n",
              "      <th>nodeIdentifiers</th>\n",
              "      <th>nodeMaintainer</th>\n",
              "    </tr>\n",
              "  </thead>\n",
              "  <tbody>\n",
              "    <tr>\n",
              "      <th>0</th>\n",
              "      <td>Water internet Accessible Distributed Informat...</td>\n",
              "      <td>http://vamdc.saga.iao.ru/node/wadis/tap/</td>\n",
              "      <td>ivo://vamdc/wadis/vamdc-tap</td>\n",
              "      <td>faz@iao.ru</td>\n",
              "    </tr>\n",
              "    <tr>\n",
              "      <th>1</th>\n",
              "      <td>NIST Atomic Spectra Database</td>\n",
              "      <td>https://physics.nist.gov:8000/nodes/asd/tap/</td>\n",
              "      <td>ivo://vamdc/nist/vamdc-tap_12.07</td>\n",
              "      <td>yuri.ralchenko@nist.gov</td>\n",
              "    </tr>\n",
              "    <tr>\n",
              "      <th>2</th>\n",
              "      <td>CDMS</td>\n",
              "      <td>https://cdms.astro.uni-koeln.de/cdms/tap/</td>\n",
              "      <td>ivo://vamdc/cdms/vamdc-tap_12.07</td>\n",
              "      <td>endres@ph1.uni-koeln.de</td>\n",
              "    </tr>\n",
              "    <tr>\n",
              "      <th>3</th>\n",
              "      <td>MeCaSDa - Methane Calculated Spectroscopic Dat...</td>\n",
              "      <td>http://vamdc.icb.cnrs.fr/mecasda-12.07/tap/</td>\n",
              "      <td>ivo://vamdc/dijon-methane-lines</td>\n",
              "      <td>Vincent.Boudon@u-bourgogne.fr</td>\n",
              "    </tr>\n",
              "    <tr>\n",
              "      <th>4</th>\n",
              "      <td>GeCaSDa: Gemane Calculated Spectroscopic Database</td>\n",
              "      <td>http://vamdc.icb.cnrs.fr/gecasda/tap/</td>\n",
              "      <td>ivo://vamdc/dijon-GeH4-lines</td>\n",
              "      <td>cyril.richard@u-bourgogne.fr</td>\n",
              "    </tr>\n",
              "    <tr>\n",
              "      <th>5</th>\n",
              "      <td>Theoretical spectral database of  polycyclic a...</td>\n",
              "      <td>http://vamdc-pah.oa-cagliari.inaf.it/tap/</td>\n",
              "      <td>ivo://vamdc/OA-Cagliari/PAH</td>\n",
              "      <td>gmulas@oa-cagliari.inaf.it</td>\n",
              "    </tr>\n",
              "    <tr>\n",
              "      <th>6</th>\n",
              "      <td>IDEADB - Innsbruck Dissociative Electron Attac...</td>\n",
              "      <td>https://ideadb.uibk.ac.at/tap/</td>\n",
              "      <td>ivo://vamdc/IDEADB</td>\n",
              "      <td>johannes.postler@uibk.ac.at</td>\n",
              "    </tr>\n",
              "    <tr>\n",
              "      <th>7</th>\n",
              "      <td>OACT - LASP Database</td>\n",
              "      <td>http://dblasp.oact.inaf.it/node1207/OACT/tap/</td>\n",
              "      <td>ivo://vamdc/OACatania/LASP</td>\n",
              "      <td>gle@oact.inaf.it</td>\n",
              "    </tr>\n",
              "    <tr>\n",
              "      <th>8</th>\n",
              "      <td>Carbon Dioxide Spectroscopic Databank 296K (VA...</td>\n",
              "      <td>http://lts.iao.ru/node/cdsd-296-xsams1/tap/</td>\n",
              "      <td>ivo://vamdc/cdsd-296</td>\n",
              "      <td>vip@lts.iao.ru</td>\n",
              "    </tr>\n",
              "    <tr>\n",
              "      <th>9</th>\n",
              "      <td>VALD (atoms)</td>\n",
              "      <td>http://vald.astro.uu.se/atoms-12.07/tap/</td>\n",
              "      <td>ivo://vamdc/vald/uu/django</td>\n",
              "      <td>thomas.marquart@fysast.uu.se</td>\n",
              "    </tr>\n",
              "    <tr>\n",
              "      <th>10</th>\n",
              "      <td>VAMDC species-DB</td>\n",
              "      <td>http://cdms.ph1.uni-koeln.de/vamdcspeciesdb/tap/</td>\n",
              "      <td>ivo://vamdc/VamdcSpeciesDB-TapService</td>\n",
              "      <td>endres@ph1.uni-koeln.de</td>\n",
              "    </tr>\n",
              "    <tr>\n",
              "      <th>11</th>\n",
              "      <td>Chianti</td>\n",
              "      <td>http://vamdc.ast.cam.ac.uk/chianti7/tap/</td>\n",
              "      <td>ivo://vamdc/chianti/django</td>\n",
              "      <td>gtr@ast.cam.ac.uk</td>\n",
              "    </tr>\n",
              "    <tr>\n",
              "      <th>12</th>\n",
              "      <td>GhoSST</td>\n",
              "      <td>http://ghosst.osug.fr/vamdc/tap/</td>\n",
              "      <td>ivo://vamdc/ghosst</td>\n",
              "      <td>damien.albert@obs.ujf-grenoble.fr</td>\n",
              "    </tr>\n",
              "    <tr>\n",
              "      <th>13</th>\n",
              "      <td>ECaSDa - Ethene Calculated Spectroscopic Database</td>\n",
              "      <td>http://vamdc.univ-reims.fr/ecasda-12.07/tap/</td>\n",
              "      <td>ivo://vamdc/reims-ethylene</td>\n",
              "      <td>ludovic.daumont@univ-reims.fr, maud.rotger@uni...</td>\n",
              "    </tr>\n",
              "    <tr>\n",
              "      <th>14</th>\n",
              "      <td>GSMA Reims S&amp;MPO</td>\n",
              "      <td>http://vamdc.univ-reims.fr/smpo12/tap/</td>\n",
              "      <td>ivo://vamdc/smpo-sample</td>\n",
              "      <td>ylb@iao.ru, vladimir.tyuterev@univ-reims.fr</td>\n",
              "    </tr>\n",
              "    <tr>\n",
              "      <th>15</th>\n",
              "      <td>Hitran (VAMDC-TAP)</td>\n",
              "      <td>http://hitran.org/tap/</td>\n",
              "      <td>ivo://vamdc/hitran/vamdc-working</td>\n",
              "      <td>christian.hill@ucl.ac.uk</td>\n",
              "    </tr>\n",
              "    <tr>\n",
              "      <th>16</th>\n",
              "      <td>Carbon Dioxide Spectroscopic Databank 1000K (V...</td>\n",
              "      <td>http://lts.iao.ru/node/cdsd-1000-xsams1/tap/</td>\n",
              "      <td>ivo://vamdc/cdsd-1000</td>\n",
              "      <td>vip@lts.iao.ru</td>\n",
              "    </tr>\n",
              "    <tr>\n",
              "      <th>17</th>\n",
              "      <td>TIPbase : VAMDC-TAP interface</td>\n",
              "      <td>http://tipbase.obspm.fr/12.07/vamdc/tap/</td>\n",
              "      <td>ivo://vamdc/TIPbase/tap-xsams</td>\n",
              "      <td>nicolas.moreau@obspm.fr - franck.delahaye@obsp...</td>\n",
              "    </tr>\n",
              "    <tr>\n",
              "      <th>18</th>\n",
              "      <td>TOPbase : VAMDC-TAP interface</td>\n",
              "      <td>http://topbase.obspm.fr/12.07/vamdc/tap/</td>\n",
              "      <td>ivo://vamdc/TOPbase/tap-xsams</td>\n",
              "      <td>nicolas.moreau@obspm.fr - franck.delahaye@obsp...</td>\n",
              "    </tr>\n",
              "    <tr>\n",
              "      <th>19</th>\n",
              "      <td>Stark-b</td>\n",
              "      <td>http://stark-b.obspm.fr/12.07/vamdc/tap/</td>\n",
              "      <td>ivo://vamdc/stark-b/tap-xsams</td>\n",
              "      <td>sylvie.sahal-brechot@obspm.fr</td>\n",
              "    </tr>\n",
              "    <tr>\n",
              "      <th>20</th>\n",
              "      <td>VALD sub-set in Moscow (obs)</td>\n",
              "      <td>http://vald.inasan.ru/vald-node/tap/</td>\n",
              "      <td>ivo://vamdc/vald-Moscow</td>\n",
              "      <td>pakhomov@inasan.ru</td>\n",
              "    </tr>\n",
              "    <tr>\n",
              "      <th>21</th>\n",
              "      <td>SpEctroScopy of Atoms and Molecules</td>\n",
              "      <td>http://sesam.obspm.fr/12.07/vamdc/tap/</td>\n",
              "      <td>ivo://vamdc/sesam/tap-xsams</td>\n",
              "      <td>evelyne.roueff@obspm.fr</td>\n",
              "    </tr>\n",
              "    <tr>\n",
              "      <th>22</th>\n",
              "      <td>Belgrade electron/atom(molecule) database (BEA...</td>\n",
              "      <td>http://servo.aob.rs/emol/tap/</td>\n",
              "      <td>ivo://vamdc/emol_radam</td>\n",
              "      <td>bratislav.marinkovic@ipb.ac.rs</td>\n",
              "    </tr>\n",
              "    <tr>\n",
              "      <th>23</th>\n",
              "      <td>SHeCaSDa - SF6 Calculated Spectroscopic Database</td>\n",
              "      <td>http://vamdc.icb.cnrs.fr/shecasda-12.07/tap/</td>\n",
              "      <td>ivo://vamdc/dijon-SF6-lines</td>\n",
              "      <td>Vincent.Boudon@u-bourgogne.fr</td>\n",
              "    </tr>\n",
              "    <tr>\n",
              "      <th>24</th>\n",
              "      <td>TFMeCaSDa - CF4 Calculated Spectroscopic Database</td>\n",
              "      <td>http://vamdc.icb.cnrs.fr/tfmecasda/tap/</td>\n",
              "      <td>ivo://vamdc/dijon-CF4-lines</td>\n",
              "      <td>Vincent.Boudon@u-bourgogne.fr</td>\n",
              "    </tr>\n",
              "    <tr>\n",
              "      <th>25</th>\n",
              "      <td>Photodissociation - MolD database</td>\n",
              "      <td>http://servo.aob.rs/mold/tap/</td>\n",
              "      <td>ivo://vamdc/MolD</td>\n",
              "      <td>vlada@ipb.ac.rs</td>\n",
              "    </tr>\n",
              "    <tr>\n",
              "      <th>26</th>\n",
              "      <td>RuCaSDa: Ruthenium tetroxide Calculated Spectr...</td>\n",
              "      <td>http://vamdc.icb.cnrs.fr/rucasda-12.07/tap/</td>\n",
              "      <td>ivo://vamdc/dijon-RuO4-lines</td>\n",
              "      <td>cyril.richard@u-bourgogne.fr</td>\n",
              "    </tr>\n",
              "    <tr>\n",
              "      <th>27</th>\n",
              "      <td>BASECOL2015: VAMDC-TAP interface</td>\n",
              "      <td>http://basecoltap2015.vamdc.org/12_07/TAP/</td>\n",
              "      <td>ivo://vamdc/basecol2015/vamdc-tap</td>\n",
              "      <td>yaye-awa.ba@obspm.fr</td>\n",
              "    </tr>\n",
              "    <tr>\n",
              "      <th>28</th>\n",
              "      <td>AMDIS Ionization</td>\n",
              "      <td>http://dbshino.nifs.ac.jp:4000/vamdc/tap/</td>\n",
              "      <td>ivo://vamdc/amdis-ionization</td>\n",
              "      <td>emoto.masahiko@nifs.ac.jp</td>\n",
              "    </tr>\n",
              "    <tr>\n",
              "      <th>29</th>\n",
              "      <td>Acetylene Spectroscopic Databank 1000K (VAMDC-...</td>\n",
              "      <td>http://lts.iao.ru/node/asd-1000/tap/</td>\n",
              "      <td>ivo://vamdc/asd-1000</td>\n",
              "      <td>vip@iao.ru roman2400@rambler.ru</td>\n",
              "    </tr>\n",
              "    <tr>\n",
              "      <th>30</th>\n",
              "      <td>Nitrous Oxide Spectroscopic Databank 1000K (VA...</td>\n",
              "      <td>http://lts.iao.ru/node/nosd-1000/tap/</td>\n",
              "      <td>ivo://vamdc/nosd-1000</td>\n",
              "      <td>vip@iao.ru roman2400@rambler.ru</td>\n",
              "    </tr>\n",
              "    <tr>\n",
              "      <th>31</th>\n",
              "      <td>Nitrogen dioxide Spectroscopic Databank 1000K ...</td>\n",
              "      <td>http://lts.iao.ru/node/ndsd-1000/tap/</td>\n",
              "      <td>ivo://vamdc/ndsd-1000</td>\n",
              "      <td>vip@iao.ru roman2400@rambler.ru</td>\n",
              "    </tr>\n",
              "    <tr>\n",
              "      <th>32</th>\n",
              "      <td>JPL database: VAMDC-TAP service</td>\n",
              "      <td>https://cdms.astro.uni-koeln.de/jpl/tap/</td>\n",
              "      <td>ivo://vamdc/jpl/vamdc-tap_12.07</td>\n",
              "      <td>endres@ph1.uni-koeln.de</td>\n",
              "    </tr>\n",
              "    <tr>\n",
              "      <th>33</th>\n",
              "      <td>TFSiCaSDa : Tetra-Fluoro Silane Calculated Spe...</td>\n",
              "      <td>http://vamdc.icb.cnrs.fr/tfsicasda-12.07/tap/</td>\n",
              "      <td>ivo://vamdc/dijon-SiF4-lines</td>\n",
              "      <td>cyril.richard@u-bourgogne.fr</td>\n",
              "    </tr>\n",
              "    <tr>\n",
              "      <th>34</th>\n",
              "      <td>UHeCaSDa : Uranium Hexafluoride Calculated Spe...</td>\n",
              "      <td>http://vamdc.icb.cnrs.fr/uhecasda-12.07/tap/</td>\n",
              "      <td>ivo://vamdc/dijon-UF6-lines</td>\n",
              "      <td>cyril.richard@u-bourgogne.fr</td>\n",
              "    </tr>\n",
              "    <tr>\n",
              "      <th>35</th>\n",
              "      <td>Carbon Dioxide Spectroscopic Databank 4000K (V...</td>\n",
              "      <td>http://lts.iao.ru/node/cdsd-4000-xsams1/tap/</td>\n",
              "      <td>ivo://vamdc/cdsd-4000</td>\n",
              "      <td>vip@lts.iao.ru</td>\n",
              "    </tr>\n",
              "  </tbody>\n",
              "</table>\n",
              "</div>"
            ],
            "text/plain": [
              "                                             NodeName  ...                                     nodeMaintainer\n",
              "0   Water internet Accessible Distributed Informat...  ...                                         faz@iao.ru\n",
              "1                        NIST Atomic Spectra Database  ...                            yuri.ralchenko@nist.gov\n",
              "2                                                CDMS  ...                            endres@ph1.uni-koeln.de\n",
              "3   MeCaSDa - Methane Calculated Spectroscopic Dat...  ...                      Vincent.Boudon@u-bourgogne.fr\n",
              "4   GeCaSDa: Gemane Calculated Spectroscopic Database  ...                       cyril.richard@u-bourgogne.fr\n",
              "5   Theoretical spectral database of  polycyclic a...  ...                         gmulas@oa-cagliari.inaf.it\n",
              "6   IDEADB - Innsbruck Dissociative Electron Attac...  ...                        johannes.postler@uibk.ac.at\n",
              "7                                OACT - LASP Database  ...                                   gle@oact.inaf.it\n",
              "8   Carbon Dioxide Spectroscopic Databank 296K (VA...  ...                                     vip@lts.iao.ru\n",
              "9                                        VALD (atoms)  ...                       thomas.marquart@fysast.uu.se\n",
              "10                                   VAMDC species-DB  ...                            endres@ph1.uni-koeln.de\n",
              "11                                            Chianti  ...                                  gtr@ast.cam.ac.uk\n",
              "12                                             GhoSST  ...                  damien.albert@obs.ujf-grenoble.fr\n",
              "13  ECaSDa - Ethene Calculated Spectroscopic Database  ...  ludovic.daumont@univ-reims.fr, maud.rotger@uni...\n",
              "14                                   GSMA Reims S&MPO  ...        ylb@iao.ru, vladimir.tyuterev@univ-reims.fr\n",
              "15                                 Hitran (VAMDC-TAP)  ...                           christian.hill@ucl.ac.uk\n",
              "16  Carbon Dioxide Spectroscopic Databank 1000K (V...  ...                                     vip@lts.iao.ru\n",
              "17                      TIPbase : VAMDC-TAP interface  ...  nicolas.moreau@obspm.fr - franck.delahaye@obsp...\n",
              "18                      TOPbase : VAMDC-TAP interface  ...  nicolas.moreau@obspm.fr - franck.delahaye@obsp...\n",
              "19                                            Stark-b  ...                      sylvie.sahal-brechot@obspm.fr\n",
              "20                       VALD sub-set in Moscow (obs)  ...                                 pakhomov@inasan.ru\n",
              "21                SpEctroScopy of Atoms and Molecules  ...                            evelyne.roueff@obspm.fr\n",
              "22  Belgrade electron/atom(molecule) database (BEA...  ...                     bratislav.marinkovic@ipb.ac.rs\n",
              "23   SHeCaSDa - SF6 Calculated Spectroscopic Database  ...                      Vincent.Boudon@u-bourgogne.fr\n",
              "24  TFMeCaSDa - CF4 Calculated Spectroscopic Database  ...                      Vincent.Boudon@u-bourgogne.fr\n",
              "25                  Photodissociation - MolD database  ...                                    vlada@ipb.ac.rs\n",
              "26  RuCaSDa: Ruthenium tetroxide Calculated Spectr...  ...                       cyril.richard@u-bourgogne.fr\n",
              "27                   BASECOL2015: VAMDC-TAP interface  ...                               yaye-awa.ba@obspm.fr\n",
              "28                                   AMDIS Ionization  ...                          emoto.masahiko@nifs.ac.jp\n",
              "29  Acetylene Spectroscopic Databank 1000K (VAMDC-...  ...                    vip@iao.ru roman2400@rambler.ru\n",
              "30  Nitrous Oxide Spectroscopic Databank 1000K (VA...  ...                    vip@iao.ru roman2400@rambler.ru\n",
              "31  Nitrogen dioxide Spectroscopic Databank 1000K ...  ...                    vip@iao.ru roman2400@rambler.ru\n",
              "32                    JPL database: VAMDC-TAP service  ...                            endres@ph1.uni-koeln.de\n",
              "33  TFSiCaSDa : Tetra-Fluoro Silane Calculated Spe...  ...                       cyril.richard@u-bourgogne.fr\n",
              "34  UHeCaSDa : Uranium Hexafluoride Calculated Spe...  ...                       cyril.richard@u-bourgogne.fr\n",
              "35  Carbon Dioxide Spectroscopic Databank 4000K (V...  ...                                     vip@lts.iao.ru\n",
              "\n",
              "[36 rows x 4 columns]"
            ]
          },
          "metadata": {},
          "execution_count": 61
        }
      ]
    },
    {
      "cell_type": "markdown",
      "source": [
        "We can now define the queries we would like submit. Each query will be submitted to the nodes we will select."
      ],
      "metadata": {
        "id": "Mk7lR2uLaLu1"
      }
    },
    {
      "cell_type": "code",
      "source": [
        "# define the set of queries to perform\n",
        "queries =[]\n",
        "# select HCO\n",
        "queries.append(\"select species\")\n",
        "# select HCN\n",
        "queries.append(\"select * where ((InchiKey = 'LELOWRISYMNNSU-UHFFFAOYSA-N'))\")\n"
      ],
      "metadata": {
        "id": "AdMPQKl-dXJX"
      },
      "execution_count": 11,
      "outputs": []
    },
    {
      "cell_type": "code",
      "source": [
        "# selecting the nodes to query by their indexe\n",
        "selectedNodes = []\n",
        "selectedNodesIndexes = [2,9]\n",
        "for i in selectedNodesIndexes:\n",
        "  currentNodeIdentifier = df['nodeIdentifiers'][i]\n",
        "  currentNode = nl.getnode(currentNodeIdentifier)\n",
        "  selectedNodes.append(currentNode)"
      ],
      "metadata": {
        "id": "k17YV3T_2oGo"
      },
      "execution_count": 13,
      "outputs": []
    },
    {
      "cell_type": "code",
      "source": [
        "# build all the request, considering the predefined set of queries and nodes\n",
        "from vamdclib import request\n",
        "requests = []\n",
        "\n",
        "for currentNode in selectedNodes:\n",
        "  for currentQuery in queries:\n",
        "    req = request.Request()\n",
        "    req.setnode(currentNode)\n",
        "    req.setquery(currentQuery)\n",
        "    requests.append(req)"
      ],
      "metadata": {
        "id": "sGVivJVVxudX"
      },
      "execution_count": 14,
      "outputs": []
    },
    {
      "cell_type": "code",
      "source": [
        "# making head requests\n",
        "from vamdclib import request\n",
        "for req in requests:\n",
        "  req.doheadrequest()"
      ],
      "metadata": {
        "id": "a7zNroQH07w9"
      },
      "execution_count": 15,
      "outputs": []
    },
    {
      "cell_type": "code",
      "source": [
        "# Displaying the performed head queries \n",
        "headerColumns = [\"VAMDC-COUNT-SPECIES\", \"VAMDC-COUNT-STATES\", \"VAMDC-TRUNCATED\", \"VAMDC-COUNT-MOLECULES\", \"VAMDC-COUNT-SOURCES\", \"VAMDC-APPROX-SIZE\", \"VAMDC-COUNT-RADIATIVE\", \"VAMDC-COUNT-ATOMS\", \"VAMDC-REQUEST-TOKEN\", \"Query\"]\n",
        "countSpecies = []\n",
        "countStates =[]\n",
        "truncated = []\n",
        "countMolecules = []\n",
        "countSources = []\n",
        "approxSize = []\n",
        "countRadiative = []\n",
        "countAtoms = []\n",
        "requestToken = []\n",
        "submittedQueries = []\n",
        "for req in requests:\n",
        "  countSpecies.append(req.headers.get(headerColumns[0]))\n",
        "  countStates.append(req.headers.get(headerColumns[1]))\n",
        "  truncated.append(req.headers.get(headerColumns[2]))\n",
        "  countMolecules.append(req.headers.get(headerColumns[3]))\n",
        "  countSources.append(req.headers.get(headerColumns[4]))\n",
        "  approxSize.append(req.headers.get(headerColumns[5]))\n",
        "  countRadiative.append(req.headers.get(headerColumns[6]))\n",
        "  countAtoms.append(req.headers.get(headerColumns[7]))\n",
        "  requestToken.append(req.headers.get(headerColumns[8]))\n",
        "  submittedQueries.append(req.query.Query)\n",
        "\n",
        "HeadDF = pd.DataFrame(list(zip(countSpecies, countStates, truncated, countMolecules, countSources, approxSize, countRadiative, countAtoms, requestToken, submittedQueries)),\n",
        "            columns = headerColumns   )\n"
      ],
      "metadata": {
        "id": "NxLst3azJMbY"
      },
      "execution_count": 59,
      "outputs": []
    },
    {
      "cell_type": "code",
      "source": [
        "HeadDF"
      ],
      "metadata": {
        "colab": {
          "base_uri": "https://localhost:8080/",
          "height": 304
        },
        "id": "ThtjZIAdgpWx",
        "outputId": "102451c1-cee4-459b-fac2-40fc9885e9a1"
      },
      "execution_count": 60,
      "outputs": [
        {
          "output_type": "execute_result",
          "data": {
            "application/vnd.google.colaboratory.module+javascript": "\n      import \"https://ssl.gstatic.com/colaboratory/data_table/a6224c040fa35dcf/data_table.js\";\n\n      window.createDataTable({\n        data: [[{\n            'v': 0,\n            'f': \"0\",\n        },\n\"1073\",\n\"0\",\n\"100\",\n\"1062\",\n\"0\",\n\"3084.32\",\n\"5494236\",\n\"11\",\n\"cdms:309d0fd7-7443-4c3c-a00f-a0fcfe9393d8:head\",\n\"select species\"],\n [{\n            'v': 1,\n            'f': \"1\",\n        },\n\"6\",\n\"766\",\n\"100\",\n\"6\",\n\"16\",\n\"1.23\",\n\"936\",\n\"0\",\n\"cdms:af894d31-cff5-4fad-907b-15c79c38e7ed:head\",\n\"select * where ((InchiKey = 'LELOWRISYMNNSU-UHFFFAOYSA-N'))\"],\n [{\n            'v': 2,\n            'f': \"2\",\n        },\n\"309\",\nnull,\nnull,\nnull,\nnull,\nnull,\nnull,\n\"309\",\n\"vald:2070668d-5689-435f-804e-21db481d5d2d:head\",\n\"select species\"],\n [{\n            'v': 3,\n            'f': \"3\",\n        },\nnull,\nnull,\nnull,\nnull,\nnull,\nnull,\nnull,\nnull,\nnull,\n\"select * where ((InchiKey = 'LELOWRISYMNNSU-UHFFFAOYSA-N'))\"]],\n        columns: [[\"number\", \"index\"], [\"string\", \"VAMDC-COUNT-SPECIES\"], [\"string\", \"VAMDC-COUNT-STATES\"], [\"string\", \"VAMDC-TRUNCATED\"], [\"string\", \"VAMDC-COUNT-MOLECULES\"], [\"string\", \"VAMDC-COUNT-SOURCES\"], [\"string\", \"VAMDC-APPROX-SIZE\"], [\"string\", \"VAMDC-COUNT-RADIATIVE\"], [\"string\", \"VAMDC-COUNT-ATOMS\"], [\"string\", \"VAMDC-REQUEST-TOKEN\"], [\"string\", \"Query\"]],\n        columnOptions: [{\"width\": \"1px\", \"className\": \"index_column\"}],\n        rowsPerPage: 25,\n        helpUrl: \"https://colab.research.google.com/notebooks/data_table.ipynb\",\n        suppressOutputScrolling: true,\n        minimumWidth: undefined,\n      });\n    ",
            "text/html": [
              "<div>\n",
              "<style scoped>\n",
              "    .dataframe tbody tr th:only-of-type {\n",
              "        vertical-align: middle;\n",
              "    }\n",
              "\n",
              "    .dataframe tbody tr th {\n",
              "        vertical-align: top;\n",
              "    }\n",
              "\n",
              "    .dataframe thead th {\n",
              "        text-align: right;\n",
              "    }\n",
              "</style>\n",
              "<table border=\"1\" class=\"dataframe\">\n",
              "  <thead>\n",
              "    <tr style=\"text-align: right;\">\n",
              "      <th></th>\n",
              "      <th>VAMDC-COUNT-SPECIES</th>\n",
              "      <th>VAMDC-COUNT-STATES</th>\n",
              "      <th>VAMDC-TRUNCATED</th>\n",
              "      <th>VAMDC-COUNT-MOLECULES</th>\n",
              "      <th>VAMDC-COUNT-SOURCES</th>\n",
              "      <th>VAMDC-APPROX-SIZE</th>\n",
              "      <th>VAMDC-COUNT-RADIATIVE</th>\n",
              "      <th>VAMDC-COUNT-ATOMS</th>\n",
              "      <th>VAMDC-REQUEST-TOKEN</th>\n",
              "      <th>Query</th>\n",
              "    </tr>\n",
              "  </thead>\n",
              "  <tbody>\n",
              "    <tr>\n",
              "      <th>0</th>\n",
              "      <td>1073</td>\n",
              "      <td>0</td>\n",
              "      <td>100</td>\n",
              "      <td>1062</td>\n",
              "      <td>0</td>\n",
              "      <td>3084.32</td>\n",
              "      <td>5494236</td>\n",
              "      <td>11</td>\n",
              "      <td>cdms:309d0fd7-7443-4c3c-a00f-a0fcfe9393d8:head</td>\n",
              "      <td>select species</td>\n",
              "    </tr>\n",
              "    <tr>\n",
              "      <th>1</th>\n",
              "      <td>6</td>\n",
              "      <td>766</td>\n",
              "      <td>100</td>\n",
              "      <td>6</td>\n",
              "      <td>16</td>\n",
              "      <td>1.23</td>\n",
              "      <td>936</td>\n",
              "      <td>0</td>\n",
              "      <td>cdms:af894d31-cff5-4fad-907b-15c79c38e7ed:head</td>\n",
              "      <td>select * where ((InchiKey = 'LELOWRISYMNNSU-UH...</td>\n",
              "    </tr>\n",
              "    <tr>\n",
              "      <th>2</th>\n",
              "      <td>309</td>\n",
              "      <td>None</td>\n",
              "      <td>None</td>\n",
              "      <td>None</td>\n",
              "      <td>None</td>\n",
              "      <td>None</td>\n",
              "      <td>None</td>\n",
              "      <td>309</td>\n",
              "      <td>vald:2070668d-5689-435f-804e-21db481d5d2d:head</td>\n",
              "      <td>select species</td>\n",
              "    </tr>\n",
              "    <tr>\n",
              "      <th>3</th>\n",
              "      <td>None</td>\n",
              "      <td>None</td>\n",
              "      <td>None</td>\n",
              "      <td>None</td>\n",
              "      <td>None</td>\n",
              "      <td>None</td>\n",
              "      <td>None</td>\n",
              "      <td>None</td>\n",
              "      <td>None</td>\n",
              "      <td>select * where ((InchiKey = 'LELOWRISYMNNSU-UH...</td>\n",
              "    </tr>\n",
              "  </tbody>\n",
              "</table>\n",
              "</div>"
            ],
            "text/plain": [
              "  VAMDC-COUNT-SPECIES  ...                                              Query\n",
              "0                1073  ...                                     select species\n",
              "1                   6  ...  select * where ((InchiKey = 'LELOWRISYMNNSU-UH...\n",
              "2                 309  ...                                     select species\n",
              "3                None  ...  select * where ((InchiKey = 'LELOWRISYMNNSU-UH...\n",
              "\n",
              "[4 rows x 10 columns]"
            ]
          },
          "metadata": {},
          "execution_count": 60
        }
      ]
    },
    {
      "cell_type": "markdown",
      "source": [
        "**The last line of the previous tab contains no data**: the reason is simple and depends on the header that each node return. Sometimes node use capital letters, sometimes lowercase letters. The previous code works with capital letters. It is up to the client code to adapt to the variety of behaviour of the nodes? Or should the nodes answer all the same way? **To discuss further in VAMDC...**"
      ],
      "metadata": {
        "id": "i0lUwULCX81a"
      }
    },
    {
      "cell_type": "markdown",
      "source": [
        "We are going to retrieve data only for the query indexed by 1. Once the data is fetched, we put them into a file. For naming this file, we will chose the Token of the query, since this is unique. "
      ],
      "metadata": {
        "id": "N3HZbuGSagxk"
      }
    },
    {
      "cell_type": "code",
      "source": [
        "# selecting the query indexed by 1 to retrieve data\n",
        "requestToPerform = requests[1]"
      ],
      "metadata": {
        "id": "BfcLiLibjJJA"
      },
      "execution_count": 69,
      "outputs": []
    },
    {
      "cell_type": "code",
      "source": [
        "# running the query to get the results\n",
        "result = requestToPerform.dorequest()"
      ],
      "metadata": {
        "id": "v1k5BF-bnjtP"
      },
      "execution_count": 70,
      "outputs": []
    },
    {
      "cell_type": "code",
      "source": [
        "# we use the query token to name the file in a unique way (later we may rename it using the query store ID) and save the result XSAMS file\n",
        "resultFileName = \"/content/\"+ HeadDF[\"VAMDC-REQUEST-TOKEN\"][1]+\".xsams\"\n",
        "with open(resultFileName, \"wb\") as text_file:\n",
        "    text_file.write(result.Xml)"
      ],
      "metadata": {
        "id": "1u8GlmjEgnK7"
      },
      "execution_count": 71,
      "outputs": []
    },
    {
      "cell_type": "markdown",
      "source": [
        "**Excellent!** Now open the file explorer on the left of this colab-notebook. Find your file. Click-left and donwload it. You have your XSAMS file! congrats. "
      ],
      "metadata": {
        "id": "zZS7w3WLa6bh"
      }
    },
    {
      "cell_type": "code",
      "source": [
        "!wget https://raw.githubusercontent.com/VAMDC/Processors/master/static/xsl/molecularxsams2html.xsl"
      ],
      "metadata": {
        "id": "6gqh9ogWPE8O",
        "colab": {
          "base_uri": "https://localhost:8080/"
        },
        "outputId": "3df997da-579c-4d48-a9cd-6cbb386ff849"
      },
      "execution_count": null,
      "outputs": [
        {
          "output_type": "stream",
          "name": "stdout",
          "text": [
            "doc\t molecularxsams2html.xsl  README    vamdclib\n",
            "LICENSE  Output.xsams\t\t  setup.py  vamdclib.egg-info\n"
          ]
        }
      ]
    },
    {
      "cell_type": "code",
      "source": [
        "!pwd"
      ],
      "metadata": {
        "id": "N1E9TQtbPEQb",
        "colab": {
          "base_uri": "https://localhost:8080/"
        },
        "outputId": "e658a88e-44ff-4231-ecec-742d23a89a18"
      },
      "execution_count": null,
      "outputs": [
        {
          "output_type": "stream",
          "name": "stdout",
          "text": [
            "/content/vamdclib/vamdclib/vamdclib\n"
          ]
        }
      ]
    }
  ]
}